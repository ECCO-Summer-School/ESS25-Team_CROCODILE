{
 "cells": [
  {
   "cell_type": "code",
   "execution_count": 2,
   "id": "58e55be0-c0f8-4a44-85ca-9f1bfb03f784",
   "metadata": {},
   "outputs": [],
   "source": [
    "# tell Python to use the ecco_v4_py in the 'ECCOv4-py' repository\n",
    "from os.path import join,expanduser\n",
    "import sys\n",
    "\n",
    "# identify user's home directory\n",
    "user_home_dir = expanduser('~')\n",
    "\n",
    "# import the ECCOv4 py library \n",
    "sys.path.insert(0,join(user_home_dir,'ECCOv4-py'))\n",
    "import ecco_v4_py as ecco\n",
    "\n",
    "import botocore  \n",
    "import boto3\n",
    "from boto3.session import Session\n",
    "import cmocean\n",
    "from collections import Counter\n",
    "from dask.distributed import Client\n",
    "import datetime\n",
    "import fsspec\n",
    "from gc import get_referents\n",
    "import json\n",
    "import numpy as np\n",
    "from pathlib import Path\n",
    "from pprint import pprint\n",
    "import requests\n",
    "import s3fs\n",
    "import sys\n",
    "from sys import getsizeof\n",
    "import time as time\n",
    "from types import ModuleType, FunctionType\n",
    "import xarray as xr\n",
    "import matplotlib.pyplot as plt\n",
    "import zarr\n",
    "import matplotlib.pyplot as plt\n",
    "import cartopy.crs as ccrs\n",
    "import cartopy.feature as cfeature\n",
    "import cartopy.mpl.ticker as cticker\n",
    "import numpy as np\n",
    "import matplotlib.patches as mpatches"
   ]
  },
  {
   "cell_type": "code",
   "execution_count": 3,
   "id": "00638977-db0f-4000-8c55-6c33a87ae046",
   "metadata": {},
   "outputs": [],
   "source": [
    "####DASK\n",
    "from dask.distributed import Client\n",
    "\n",
    "#  connec to existing LocalCluster\n",
    "# the port number will be different!\n",
    "client = Client(\"tcp://127.0.0.1:36195\")\n",
    "client.ncores\n",
    "client.restart()"
   ]
  },
  {
   "cell_type": "markdown",
   "id": "0bb64fac-e93c-45ed-a860-bb256b46e3b3",
   "metadata": {},
   "source": [
    "Modify the diffusion"
   ]
  },
  {
   "cell_type": "code",
   "execution_count": null,
   "id": "2b25f3b2-b564-49c0-b60c-ad3550e63029",
   "metadata": {},
   "outputs": [],
   "source": [
    "diffu=ecco.read_llc_to_tiles('/efs_ecco/ECCO/EMU/emu_input_dir/forcing/input_init/','total_diffkr_r009bit11.bin',nk=-1)\n",
    "diffu[0:10,:,:,:]=0.5*diffu[0:10,:,:,:]\n",
    "mod_xx_c_diffu = ecco.llc_tiles_to_compact(diffu)\n",
    "mod_xx_c_diffu.astype('>f4').tofile('/efs_ecco/fjiang/modi_total_diffkr_r009bit11.bin')"
   ]
  },
  {
   "cell_type": "markdown",
   "id": "6d1b2b88-2f1e-4d18-aa2e-d5584d463c17",
   "metadata": {},
   "source": [
    "Modify the wind stress\n",
    "Note that the input file cannot contain any NaN values so removed these values!!!"
   ]
  },
  {
   "cell_type": "code",
   "execution_count": null,
   "id": "217f167e-75cb-4515-a10e-e9341f6242ca",
   "metadata": {},
   "outputs": [
    {
     "name": "stdout",
     "output_type": "stream",
     "text": [
      "000 /efs_ecco/ECCO/V4/r5/netcdf/native/mon_mean/.ipynb_checkpoints\n",
      "001 /efs_ecco/ECCO/V4/r5/netcdf/native/mon_mean/ATM_SURFACE_TEMP_HUM_WIND_PRES\n",
      "002 /efs_ecco/ECCO/V4/r5/netcdf/native/mon_mean/ICE_FRONT_FLUX\n",
      "003 /efs_ecco/ECCO/V4/r5/netcdf/native/mon_mean/ICE_SHELF_FLUX\n",
      "004 /efs_ecco/ECCO/V4/r5/netcdf/native/mon_mean/OCEAN_3D_MOMENTUM_ADV_TEND_X\n",
      "005 /efs_ecco/ECCO/V4/r5/netcdf/native/mon_mean/OCEAN_3D_MOMENTUM_ADV_TEND_Y\n",
      "006 /efs_ecco/ECCO/V4/r5/netcdf/native/mon_mean/OCEAN_3D_MOMENTUM_DISS_TEND_X\n",
      "007 /efs_ecco/ECCO/V4/r5/netcdf/native/mon_mean/OCEAN_3D_MOMENTUM_DISS_TEND_Y\n",
      "008 /efs_ecco/ECCO/V4/r5/netcdf/native/mon_mean/OCEAN_3D_MOMENTUM_TEND_X\n",
      "009 /efs_ecco/ECCO/V4/r5/netcdf/native/mon_mean/OCEAN_3D_MOMENTUM_TEND_Y\n",
      "010 /efs_ecco/ECCO/V4/r5/netcdf/native/mon_mean/OCEAN_AND_ICE_SURFACE_FW_FLUX\n",
      "011 /efs_ecco/ECCO/V4/r5/netcdf/native/mon_mean/OCEAN_AND_ICE_SURFACE_HEAT_FLUX\n",
      "012 /efs_ecco/ECCO/V4/r5/netcdf/native/mon_mean/OCEAN_AND_ICE_SURFACE_STRESS\n",
      "013 /efs_ecco/ECCO/V4/r5/netcdf/native/mon_mean/OCEAN_BOLUS_STREAMFUNCTION\n",
      "014 /efs_ecco/ECCO/V4/r5/netcdf/native/mon_mean/OCEAN_BOLUS_VELOCITY\n",
      "015 /efs_ecco/ECCO/V4/r5/netcdf/native/mon_mean/OCEAN_BOTTOM_PRESSURE\n",
      "016 /efs_ecco/ECCO/V4/r5/netcdf/native/mon_mean/OCEAN_DENS_STRAT_PRESS\n",
      "017 /efs_ecco/ECCO/V4/r5/netcdf/native/mon_mean/OCEAN_MIXED_LAYER_DEPTH\n",
      "018 /efs_ecco/ECCO/V4/r5/netcdf/native/mon_mean/OCEAN_SALINITY_FLUX\n",
      "019 /efs_ecco/ECCO/V4/r5/netcdf/native/mon_mean/OCEAN_TEMPERATURE_FLUX\n",
      "020 /efs_ecco/ECCO/V4/r5/netcdf/native/mon_mean/OCEAN_TEMPERATURE_SALINITY\n",
      "021 /efs_ecco/ECCO/V4/r5/netcdf/native/mon_mean/OCEAN_VELOCITY\n",
      "022 /efs_ecco/ECCO/V4/r5/netcdf/native/mon_mean/OCEAN_VOLUME_FLUX\n",
      "023 /efs_ecco/ECCO/V4/r5/netcdf/native/mon_mean/SEA_ICE_CONC_THICKNESS\n",
      "024 /efs_ecco/ECCO/V4/r5/netcdf/native/mon_mean/SEA_ICE_HORIZ_VOLUME_FLUX\n",
      "025 /efs_ecco/ECCO/V4/r5/netcdf/native/mon_mean/SEA_ICE_SALT_PLUME_FLUX\n",
      "026 /efs_ecco/ECCO/V4/r5/netcdf/native/mon_mean/SEA_ICE_THERMO_BUDG\n",
      "027 /efs_ecco/ECCO/V4/r5/netcdf/native/mon_mean/SEA_ICE_VELOCITY\n",
      "028 /efs_ecco/ECCO/V4/r5/netcdf/native/mon_mean/SEA_SURFACE_HEIGHT\n"
     ]
    }
   ],
   "source": [
    "dataset_num = 12\n",
    "\n",
    "ecco_v4r5_mon_mean_native_dir = Path('/efs_ecco/ECCO/V4/r5/netcdf/native/mon_mean/')\n",
    "\n",
    "# list sub-directories (one per dataset)\n",
    "ecco_v4r5_mon_mean_native_dataset_paths = np.sort(list(ecco_v4r5_mon_mean_native_dir.glob('*')))\n",
    "\n",
    "for i, d in enumerate(ecco_v4r5_mon_mean_native_dataset_paths):\n",
    "    print(str(i).zfill(3),d)\n",
    "\n",
    "#print('selected ', ecco_v4r5_mon_mean_native_dataset_paths[dataset_num])\n",
    "# Select a dataset (the one containing temperature and salinity)\n",
    "dataset_num = 12\n",
    "ST_dataset_dir = ecco_v4r5_mon_mean_native_dataset_paths[dataset_num]\n",
    "\n",
    "\n",
    "# make a list of all of the files in the directory\n",
    "ST_dataset_files = np.sort(list(ST_dataset_dir.glob('*nc')))\n",
    "files_to_load = ST_dataset_files\n",
    "ds_ST = xr.open_mfdataset(ST_dataset_files)\n",
    "\n",
    "\n",
    "wind_u_trend = - wind_u_trend/52     ##### Make the increment */week\n",
    "\n",
    "import xarray as xr\n",
    "import numpy as np\n",
    "\n",
    "# Assume wind_u_trend has dims (k, j, i) and shape (13, 90, 90)\n",
    "time = xr.DataArray(np.arange(1358), dims='time')  # shape: (1358,)\n",
    "\n",
    "# Expand wind_u_trend to have a 'time' dimension (broadcasted)\n",
    "wind_u_trend_expanded = wind_u_trend.expand_dims(time=time)  # shape: (time, k, j, i)\n",
    "\n",
    "# Multiply — xarray handles broadcasting automatically now\n",
    "wind_u_trend_time = wind_u_trend_expanded * time\n",
    "\n",
    "mod_xx_c = ecco.llc_tiles_to_compact(wind_u_trend_time)\n",
    "mod_xx_c.astype('>f4').tofile('/efs_ecco/fjiang/modi_xx_tauu.0000000129.data')\n"
   ]
  }
 ],
 "metadata": {
  "kernelspec": {
   "display_name": "Python 3 (ipykernel)",
   "language": "python",
   "name": "python3"
  },
  "language_info": {
   "codemirror_mode": {
    "name": "ipython",
    "version": 3
   },
   "file_extension": ".py",
   "mimetype": "text/x-python",
   "name": "python",
   "nbconvert_exporter": "python",
   "pygments_lexer": "ipython3",
   "version": "3.12.8"
  }
 },
 "nbformat": 4,
 "nbformat_minor": 5
}
